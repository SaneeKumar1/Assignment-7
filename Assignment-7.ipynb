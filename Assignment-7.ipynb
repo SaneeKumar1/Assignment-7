{
 "cells": [
  {
   "cell_type": "markdown",
   "id": "114b666b-c6ba-4a6e-beea-6dd8fe16a733",
   "metadata": {},
   "source": [
    "Q1. What is Abstraction in OOps? Explain with an example."
   ]
  },
  {
   "cell_type": "markdown",
   "id": "d56ca3de-1736-4b37-b301-9e5d9c866742",
   "metadata": {},
   "source": [
    "Ans- Abstraction in object-oriented programming (OOP) is the process of hiding the complex implementation details and exposing only the essential features of an object or a class. It focuses on what an object does rather than how it does it, allowing the user to interact with objects at a higher level of abstraction."
   ]
  },
  {
   "cell_type": "code",
   "execution_count": 1,
   "id": "d1b70025-0be1-4d0d-860d-ea315956da21",
   "metadata": {},
   "outputs": [],
   "source": [
    "# Abstract base class\n",
    "class Shape:\n",
    "    def area(self):\n",
    "        pass\n",
    "\n",
    "    def perimeter(self):\n",
    "        pass\n",
    "\n",
    "# Concrete subclasses\n",
    "class Circle(Shape):\n",
    "    def __init__(self, radius):\n",
    "        self.radius = radius\n",
    "\n",
    "    def area(self):\n",
    "        return 3.14 * self.radius * self.radius\n",
    "\n",
    "    def perimeter(self):\n",
    "        return 2 * 3.14 * self.radius\n",
    "\n",
    "class Square(Shape):\n",
    "    def __init__(self, side):\n",
    "        self.side = side\n",
    "\n",
    "    def area(self):\n",
    "        return self.side * self.side\n",
    "\n",
    "    def perimeter(self):\n",
    "        return 4 * self.side"
   ]
  },
  {
   "cell_type": "code",
   "execution_count": 2,
   "id": "d6ad9759-a817-4f99-a9da-e1acc0ed2e4c",
   "metadata": {},
   "outputs": [
    {
     "name": "stdout",
     "output_type": "stream",
     "text": [
      "Circle - Area: 78.5, Perimeter: 31.400000000000002\n",
      "Square - Area: 16, Perimeter: 16\n"
     ]
    }
   ],
   "source": [
    "# Usage\n",
    "circle = Circle(5)\n",
    "square = Square(4)\n",
    "\n",
    "print(f\"Circle - Area: {circle.area()}, Perimeter: {circle.perimeter()}\")\n",
    "print(f\"Square - Area: {square.area()}, Perimeter: {square.perimeter()}\")"
   ]
  },
  {
   "cell_type": "markdown",
   "id": "119a0d07-b1b2-4c57-a5f0-9aedd0e26518",
   "metadata": {},
   "source": [
    "Q2. Differentiate between Abstraction and Encapsulation. Explain with an example."
   ]
  },
  {
   "cell_type": "markdown",
   "id": "98e986ee-4f09-48cb-81fc-ce0c0b60574c",
   "metadata": {},
   "source": [
    "Ans-Key Differences:\n",
    "\n",
    "Focus:\n",
    "\n",
    "Abstraction focuses on hiding complexity and providing a simplified view of objects through interfaces.\n",
    "\n",
    "Encapsulation focuses on bundling data and methods together to restrict direct access to data and enforce controlled access via methods.\n",
    "\n",
    "Usage:\n",
    "\n",
    "Abstraction simplifies the complexity by providing a clear view of what an object does.\n",
    "\n",
    "Encapsulation ensures data security and integrity by hiding implementation details and exposing only necessary functionalities."
   ]
  },
  {
   "cell_type": "code",
   "execution_count": 3,
   "id": "0c3521f1-b779-4c1c-84c6-1d1dd41981f3",
   "metadata": {},
   "outputs": [],
   "source": [
    "# Example demonstrating encapsulation\n",
    "\n",
    "class Employee:\n",
    "    def __init__(self, name, salary):\n",
    "        self.__name = name      # Encapsulated attribute\n",
    "        self.__salary = salary  # Encapsulated attribute\n",
    "\n",
    "    def get_name(self):\n",
    "        return self.__name     # Getter method\n",
    "\n",
    "    def get_salary(self):\n",
    "        return self.__salary   # Getter method\n",
    "\n",
    "    def set_salary(self, new_salary):\n",
    "        if new_salary > 0:\n",
    "            self.__salary = new_salary  # Setter method\n"
   ]
  },
  {
   "cell_type": "code",
   "execution_count": 4,
   "id": "c4a6fb9f-5b4c-49a8-b9df-257059cd9334",
   "metadata": {},
   "outputs": [
    {
     "name": "stdout",
     "output_type": "stream",
     "text": [
      "Employee Name: John Doe\n",
      "Employee Salary: 50000\n"
     ]
    }
   ],
   "source": [
    "# Usage\n",
    "emp = Employee(\"John Doe\", 50000)\n",
    "print(f\"Employee Name: {emp.get_name()}\")     # Output: Employee Name: John Doe\n",
    "print(f\"Employee Salary: {emp.get_salary()}\") # Output: Employee Salary: 50000\n"
   ]
  },
  {
   "cell_type": "code",
   "execution_count": 5,
   "id": "5c1f0fb3-0b43-4a59-8349-6ef367340f81",
   "metadata": {},
   "outputs": [
    {
     "name": "stdout",
     "output_type": "stream",
     "text": [
      "Employee Salary (after unauthorized change): 50000\n"
     ]
    }
   ],
   "source": [
    "# Attempt to modify salary directly (which is encapsulated)\n",
    "emp.__salary = 60000\n",
    "print(f\"Employee Salary (after unauthorized change): {emp.get_salary()}\")  # Output: Employee Salary (after unauthorized change): 50000\n"
   ]
  },
  {
   "cell_type": "code",
   "execution_count": 6,
   "id": "f894988a-013c-46f4-827c-8ccf013070d1",
   "metadata": {},
   "outputs": [
    {
     "name": "stdout",
     "output_type": "stream",
     "text": [
      "Employee Salary (after authorized change): 60000\n"
     ]
    }
   ],
   "source": [
    "# Correct way to modify salary using setter method\n",
    "emp.set_salary(60000)\n",
    "print(f\"Employee Salary (after authorized change): {emp.get_salary()}\")  # Output: Employee Salary (after authorized change): 60000"
   ]
  },
  {
   "cell_type": "markdown",
   "id": "6a8cf91a-d3dd-4b59-a058-c5a671a46996",
   "metadata": {},
   "source": [
    "Q3. What is abc module in python? Why is it used?"
   ]
  },
  {
   "cell_type": "markdown",
   "id": "4a15f567-1f77-4c75-9fa3-d7e7673ca0e6",
   "metadata": {},
   "source": [
    "Ans-\n",
    "The 'abc' module in Python stands for \"Abstract Base Classes\". It's used to define abstract base classes that establish a common interface for subclasses. This ensures that subclasses implement required methods, promoting code reliability and reusability through polymorphism."
   ]
  },
  {
   "cell_type": "markdown",
   "id": "ec8852cf-5b87-4caa-8bce-23e025dd6266",
   "metadata": {},
   "source": [
    "Q4. How can we achieve data abstraction?"
   ]
  },
  {
   "cell_type": "markdown",
   "id": "fb5f8cab-6bc5-407c-8595-d2f7c932a3f8",
   "metadata": {},
   "source": [
    "Ans- Data abstraction in Python can be achieved through encapsulation, using private attributes and providing getter and setter methods to access and modify data securely. Additionally, abstract base classes (ABCs) define a common interface that subclasses must implement, ensuring standardized interactions while hiding implementation details. These practices promote code reliability, reusability, and maintainability by focusing on essential features and hiding unnecessary complexities.\n",
    "\n",
    "\n",
    "\n"
   ]
  },
  {
   "cell_type": "markdown",
   "id": "72789592-f813-4a3a-bdcc-6f0766d28e8b",
   "metadata": {},
   "source": [
    "Q5. Can we create an instance of an abstract class? Explain your answer."
   ]
  },
  {
   "cell_type": "markdown",
   "id": "27b828e5-c04d-4124-9f6a-bc764cc0603c",
   "metadata": {},
   "source": [
    "Ans- No, we cannot create an instance of an abstract class in Python. Abstract classes are meant to be subclassed, and they contain abstract methods that must be implemented by their subclasses. Attempting to directly instantiate an abstract class will raise a TypeError."
   ]
  }
 ],
 "metadata": {
  "kernelspec": {
   "display_name": "Python 3 (ipykernel)",
   "language": "python",
   "name": "python3"
  },
  "language_info": {
   "codemirror_mode": {
    "name": "ipython",
    "version": 3
   },
   "file_extension": ".py",
   "mimetype": "text/x-python",
   "name": "python",
   "nbconvert_exporter": "python",
   "pygments_lexer": "ipython3",
   "version": "3.10.8"
  }
 },
 "nbformat": 4,
 "nbformat_minor": 5
}
